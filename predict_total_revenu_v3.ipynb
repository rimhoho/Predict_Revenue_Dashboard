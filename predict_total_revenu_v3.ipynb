{
 "cells": [
  {
   "cell_type": "code",
   "execution_count": 2,
   "metadata": {},
   "outputs": [
    {
     "name": "stdout",
     "output_type": "stream",
     "text": [
      "Collecting statsmodels\n",
      "\u001b[?25l  Downloading https://files.pythonhosted.org/packages/c1/9e/ac389ccbca93a512fcb7e827afa4e5ab97dba6e32c07a87df3a9f130deef/statsmodels-0.10.2-cp36-cp36m-macosx_10_6_intel.whl (10.5MB)\n",
      "\u001b[K     |████████████████████████████████| 10.5MB 1.7MB/s eta 0:00:01    |█                               | 317kB 1.7MB/s eta 0:00:06\n",
      "\u001b[?25hRequirement already satisfied: numpy>=1.11 in /Users/hh/.pyenv/versions/3.6.7/lib/python3.6/site-packages (from statsmodels) (1.17.2)\n",
      "Requirement already satisfied: scipy>=0.18 in /Users/hh/.pyenv/versions/3.6.7/lib/python3.6/site-packages (from statsmodels) (1.3.1)\n",
      "Collecting patsy>=0.4.0\n",
      "\u001b[?25l  Downloading https://files.pythonhosted.org/packages/ea/0c/5f61f1a3d4385d6bf83b83ea495068857ff8dfb89e74824c6e9eb63286d8/patsy-0.5.1-py2.py3-none-any.whl (231kB)\n",
      "\u001b[K     |████████████████████████████████| 235kB 17.3MB/s eta 0:00:01\n",
      "\u001b[?25hRequirement already satisfied: pandas>=0.19 in /Users/hh/.pyenv/versions/3.6.7/lib/python3.6/site-packages (from statsmodels) (0.24.2)\n",
      "Requirement already satisfied: six in /Users/hh/.pyenv/versions/3.6.7/lib/python3.6/site-packages (from patsy>=0.4.0->statsmodels) (1.12.0)\n",
      "Requirement already satisfied: pytz>=2011k in /Users/hh/.pyenv/versions/3.6.7/lib/python3.6/site-packages (from pandas>=0.19->statsmodels) (2019.2)\n",
      "Requirement already satisfied: python-dateutil>=2.5.0 in /Users/hh/.pyenv/versions/3.6.7/lib/python3.6/site-packages (from pandas>=0.19->statsmodels) (2.8.0)\n",
      "Installing collected packages: patsy, statsmodels\n",
      "Successfully installed patsy-0.5.1 statsmodels-0.10.2\n"
     ]
    }
   ],
   "source": [
    "!pip install statsmodels"
   ]
  },
  {
   "cell_type": "code",
   "execution_count": 65,
   "metadata": {},
   "outputs": [],
   "source": [
    "import pandas as pd\n",
    "import numpy as np\n",
    "import matplotlib.pyplot as plt\n",
    "\n",
    "from scipy.interpolate import interp1d\n",
    "from matplotlib import pyplot\n",
    "from sklearn.datasets import make_regression\n",
    "from sklearn.linear_model import LinearRegression\n",
    "from sklearn.metrics import mean_squared_error\n",
    "from statsmodels.tsa.ar_model import AR\n",
    "from pylab import rcParams\n",
    "from sklearn.feature_selection import RFE\n",
    "from pandas import read_csv\n",
    "from pathlib import Path"
   ]
  },
  {
   "cell_type": "code",
   "execution_count": 21,
   "metadata": {},
   "outputs": [
    {
     "data": {
      "image/png": "[encoded data removed]",
      "text/plain": [
       "<Figure size 432x288 with 1 Axes>"
      ]
     },
     "metadata": {
      "needs_background": "light"
     },
     "output_type": "display_data"
    }
   ],
   "source": [
    "TEMPLATES_DIR = Path.cwd().joinpath('Resources')\n",
    "companies = ['GOOGL', 'FB', 'TWTR', 'SNAP']\n",
    "file = TEMPLATES_DIR.joinpath(companies[1] + \".csv\")\n",
    "\n",
    "df = pd.read_csv(file)\n",
    "df.head()\n",
    "df.plot()\n",
    "pyplot.show()"
   ]
  },
  {
   "cell_type": "code",
   "execution_count": 63,
   "metadata": {},
   "outputs": [
    {
     "name": "stdout",
     "output_type": "stream",
     "text": [
      "   Total_Revenue  SMI_US_Ad_Revenue  Capture_Rate     ORI          Lag  MAU  \\\n",
      "0   7.310000e+08           36658226          0.05  217.74  731000000.0  680   \n",
      "1   8.950000e+08           51035923          0.06  217.74  731000000.0  739   \n",
      "2   9.540000e+08           50442128          0.05  217.74  731000000.0  800   \n",
      "3   1.131000e+09           66235153          0.06  217.74  731000000.0  845   \n",
      "4   1.058000e+09           45784188          0.04  217.74  731000000.0  901   \n",
      "\n",
      "       Y_test  Time_2011-Q1  Time_2011-Q2  Time_2011-Q3  ...  Y_test_YoY_39%  \\\n",
      "0   731000000             1             0             0  ...               0   \n",
      "1   895000000             0             1             0  ...               0   \n",
      "2   954000000             0             0             1  ...               0   \n",
      "3  1131000000             0             0             0  ...               0   \n",
      "4  1058000000             0             0             0  ...               0   \n",
      "\n",
      "   Y_test_YoY_41%  Y_test_YoY_42%  Y_test_YoY_45%  Y_test_YoY_47%  \\\n",
      "0               0               0               0               0   \n",
      "1               0               0               0               0   \n",
      "2               0               0               0               0   \n",
      "3               0               0               0               0   \n",
      "4               0               0               0               0   \n",
      "\n",
      "   Y_test_YoY_49%  Y_test_YoY_51%  Y_test_YoY_52%  Y_test_YoY_56%  \\\n",
      "0               0               0               0               0   \n",
      "1               0               0               0               0   \n",
      "2               0               0               0               0   \n",
      "3               0               0               0               0   \n",
      "4               0               0               0               0   \n",
      "\n",
      "   Y_test_YoY_59%  \n",
      "0               0  \n",
      "1               0  \n",
      "2               0  \n",
      "3               0  \n",
      "4               0  \n",
      "\n",
      "[5 rows x 76 columns]\n",
      "Index(['Total_Revenue', 'SMI_US_Ad_Revenue', 'Capture_Rate', 'ORI', 'Lag',\n",
      "       'MAU', 'Y_test', 'Time_2011-Q1', 'Time_2011-Q2', 'Time_2011-Q3',\n",
      "       'Time_2011-Q4', 'Time_2012-Q1', 'Time_2012-Q2', 'Time_2012-Q3',\n",
      "       'Time_2012-Q4', 'Time_2013-Q1', 'Time_2013-Q2', 'Time_2013-Q3',\n",
      "       'Time_2013-Q4', 'Time_2014-Q1', 'Time_2014-Q2', 'Time_2014-Q3',\n",
      "       'Time_2014-Q4', 'Time_2015-Q1', 'Time_2015-Q2', 'Time_2015-Q3',\n",
      "       'Time_2015-Q4', 'Time_2016-Q1', 'Time_2016-Q2', 'Time_2016-Q3',\n",
      "       'Time_2016-Q4', 'Time_2017-Q1', 'Time_2017-Q2', 'Time_2017-Q3',\n",
      "       'Time_2017-Q4', 'Time_2018-Q1', 'Time_2018-Q2', 'Time_2018-Q3',\n",
      "       'Time_2018-Q4', 'Time_2019-Q1', 'Time_2019-Q2', 'Time_2019-Q3',\n",
      "       'Time_2019-Q4', 'Quarter_Q1', 'Quarter_Q2', 'Quarter_Q3', 'Quarter_Q4',\n",
      "       'YoY_Y_26%', 'YoY_Y_28%', 'YoY_Y_29%', 'YoY_Y_30%', 'YoY_Y_33%',\n",
      "       'YoY_Y_39%', 'YoY_Y_41%', 'YoY_Y_42%', 'YoY_Y_45%', 'YoY_Y_47%',\n",
      "       'YoY_Y_49%', 'YoY_Y_51%', 'YoY_Y_52%', 'YoY_Y_56%', 'YoY_Y_59%',\n",
      "       'Y_test_YoY_26%', 'Y_test_YoY_29%', 'Y_test_YoY_30%', 'Y_test_YoY_33%',\n",
      "       'Y_test_YoY_39%', 'Y_test_YoY_41%', 'Y_test_YoY_42%', 'Y_test_YoY_45%',\n",
      "       'Y_test_YoY_47%', 'Y_test_YoY_49%', 'Y_test_YoY_51%', 'Y_test_YoY_52%',\n",
      "       'Y_test_YoY_56%', 'Y_test_YoY_59%'],\n",
      "      dtype='object')\n"
     ]
    }
   ],
   "source": [
    "df.columns\n",
    "df = pd.get_dummies(df)\n",
    "#dummy = pd.get_dummies(df['Quarter'])\n",
    "#df= pd.concat([df,dummy],axis = 1)\n",
    "print(df.head())\n",
    "df.isnull().any()\n",
    "print(df.columns)\n",
    "df = df.fillna(method = 'ffill')\n",
    "df = df.interpolate(method ='linear', limit_direction ='backward')\n",
    "df = df.interpolate(method = 'linear',limit_direction = 'forward',limit = 1)"
   ]
  },
  {
   "cell_type": "code",
   "execution_count": 23,
   "metadata": {},
   "outputs": [],
   "source": [
    "##model with MAU and Capture Rate\n",
    "def ModelA(df):\n",
    "    X = df[['SMI_US_Ad_Revenue','Lag','MAU','ORI','Capture_Rate','Quarter_Q1',\n",
    "       'Quarter_Q2', 'Quarter_Q3', 'Quarter_Q4'] ]\n",
    "    y = df['Total_Revenue'].values.reshape(-1,1)\n",
    "    return X,y"
   ]
  },
  {
   "cell_type": "code",
   "execution_count": 24,
   "metadata": {},
   "outputs": [],
   "source": [
    "##model with Capture Rate and without MAU\n",
    "\n",
    "def ModelB(df):\n",
    "    X = df[['SMI_US_Ad_Revenue','Lag','Capture_Rate','Quarter_Q1',\n",
    "       'Quarter_Q2', 'Quarter_Q3', 'Quarter_Q4'] ]\n",
    "    y = df['Total_Revenue'].values.reshape(-1,1)\n",
    "    return X,y\n"
   ]
  },
  {
   "cell_type": "code",
   "execution_count": 25,
   "metadata": {},
   "outputs": [],
   "source": [
    "##model without MAU and Capture Rate\n",
    "def ModelC(df):\n",
    "    X = df[['SMI_US_Ad_Revenue','Lag','Quarter_Q1',\n",
    "        'Quarter_Q2', 'Quarter_Q3', 'Quarter_Q4'] ]\n",
    "    y = df['Total_Revenue'].values.reshape(-1,1)  \n",
    "    return X,y"
   ]
  },
  {
   "cell_type": "code",
   "execution_count": 26,
   "metadata": {},
   "outputs": [],
   "source": [
    "X,y = ModelA(df)"
   ]
  },
  {
   "cell_type": "code",
   "execution_count": 66,
   "metadata": {},
   "outputs": [],
   "source": [
    "from sklearn.model_selection import train_test_split\n",
    "\n",
    "test_percentage = .66\n",
    "X_train, X_test, y_train, y_test = train_test_split(X, y, test_size= test_percentage, shuffle = False, random_state=42)\n",
    "#X_train,X_test,y_train,y_test = train_test_split(X,y,random_state = 42)"
   ]
  },
  {
   "cell_type": "code",
   "execution_count": 67,
   "metadata": {},
   "outputs": [],
   "source": [
    "from sklearn.preprocessing import StandardScaler\n",
    "def scaler(X_train,y_train,X_test):\n",
    "    #X_scaler = StandardScaler().fit(X_train)\n",
    "    #y_scaler = StandardScaler().fit(y_train)\n",
    "    #X_test = X_test.values.reshape(1, -1)\n",
    "    #y_train = y_train.reshape(-1,1)\n",
    "    X_train_scaled = StandardScaler().fit(X_train).transform(X_train)\n",
    "    X_test_scaled = StandardScaler().fit(X_train).transform(X_test)\n",
    "    y_train_scaled = StandardScaler().fit(y_train).transform(y_train)\n",
    "    return X_train_scaled,y_train_scaled,X_test_scaled\n",
    "def scaler_y_test(y_test,y_train):\n",
    "    y_test_scaled = StandardScaler().fit(y_train).transform(y_test)\n",
    "    return y_test_scaled\n",
    "\n",
    "X_train_scaled,y_train_scaled,X_test_scaled, = scaler(X_train,y_train,X_test)\n",
    "y_test_scaled = scaler_y_test(y_test,y_train)"
   ]
  },
  {
   "cell_type": "code",
   "execution_count": 69,
   "metadata": {},
   "outputs": [
    {
     "data": {
      "image/png": "[encoded data removed]",
      "text/plain": [
       "<Figure size 432x288 with 1 Axes>"
      ]
     },
     "metadata": {
      "needs_background": "light"
     },
     "output_type": "display_data"
    }
   ],
   "source": [
    "model = LinearRegression()\n",
    "#predictions = model.predict(X_test_scaled)\n",
    "model.fit(X_train_scaled,y_train_scaled)\n",
    "plt.scatter(model.predict(X_train_scaled), model.predict(X_train_scaled) - y_train_scaled, c=\"blue\", label=\"Training Data\")\n",
    "plt.scatter(model.predict(X_test_scaled), model.predict(X_test_scaled) - y_test_scaled, c=\"orange\", label=\"Testing Data\")\n",
    "plt.legend()\n",
    "plt.hlines(y=0, xmin=y_test_scaled.min(), xmax=y_test_scaled.max())\n",
    "plt.title(\"Test Vs Train Plot\")\n",
    "plt.show()"
   ]
  },
  {
   "cell_type": "code",
   "execution_count": 70,
   "metadata": {},
   "outputs": [],
   "source": [
    "from sklearn.metrics import mean_squared_error\n",
    "from sklearn.linear_model import LinearRegression,Lasso,Ridge,ElasticNet\n",
    "\n",
    "\n",
    "def run_model(model):\n",
    "    execute_model(X_train_scaled,y_train_scaled,model,X_test_scaled,y_test_scaled)\n",
    "        \n",
    "def execute_model(X_train_scaled,y_train_scaled,model,X_test_scaled,y_test_scaled):\n",
    "    z = modelfit(model,X_train_scaled,y_train_scaled)\n",
    "    blah = predictions(z,X_test_scaled)\n",
    "    print(f\"MSE:{MSE(y_test_scaled,blah)}\")\n",
    "    print(f\"R2:{r2(model,X_test_scaled, y_test_scaled)}\")\n",
    "    \n",
    "def modelfit(a,X_train_scaled, y_train_scaled):\n",
    "    model = a.fit(X_train_scaled, y_train_scaled)\n",
    "    print(\"model name: \",a)\n",
    "    return model\n",
    "\n",
    "def predictions(model,X_test_scaled):\n",
    "    predictions = model.predict(X_test_scaled)\n",
    "    #print(predictions)\n",
    "    print(\"the intercept is: \" , model.intercept_)\n",
    "    print(\"the coeff is: \" ,model.coef_)\n",
    "    return predictions\n",
    "def MSE(y_test_scaled,predictions):\n",
    "    mse = mean_squared_error(y_test_scaled, predictions)\n",
    "    #print(f\"MSE: {mse}\")\n",
    "    return mse\n",
    "def r2(model,X_test_scaled, y_test_scaled):\n",
    "    R2 = model.score(X_test_scaled, y_test_scaled)\n",
    "    #print(f\"R2: {R2}\")\n",
    "    return R2\n",
    "\n",
    "def modelselection(models,y_test_scaled,X_test_scaled):\n",
    "    R2_dict = {}\n",
    "    mse_dict = {}\n",
    "    for model in models:\n",
    "        run_model(model)\n",
    "        predictions = model.predict(X_test_scaled)\n",
    "        mse = MSE(y_test_scaled,predictions)\n",
    "        R2= r2(model,X_test_scaled,y_test_scaled)\n",
    "        R2_dict.update({model:R2})\n",
    "        mse_dict.update({model:mse})\n",
    "    best_model_R2 = max(R2_dict, key=R2_dict.get)\n",
    "    #best_model_mse = min(mse_dict,key=mse_dict.get)\n",
    "    return best_model_R2"
   ]
  },
  {
   "cell_type": "code",
   "execution_count": 31,
   "metadata": {
    "scrolled": true
   },
   "outputs": [
    {
     "name": "stdout",
     "output_type": "stream",
     "text": [
      "model name:  LinearRegression(copy_X=True, fit_intercept=True, n_jobs=None, normalize=False)\n",
      "the intercept is:  [-1.61645988e-16]\n",
      "the coeff is:  [[ 2.06792022e-01  5.06443914e-01  5.77443450e-02 -2.22044605e-16\n",
      "  -4.67402216e-01 -7.38482225e-02  4.98062575e-02 -3.24667999e-02\n",
      "   5.65087650e-02]]\n",
      "MSE:9.397578406458072\n",
      "R2:0.9054168870799711\n",
      "model name:  Lasso(alpha=0.01, copy_X=True, fit_intercept=True, max_iter=1000,\n",
      "      normalize=False, positive=False, precompute=False, random_state=None,\n",
      "      selection='cyclic', tol=0.0001, warm_start=False)\n",
      "the intercept is:  [-2.3806221e-17]\n",
      "the coeff is:  [ 0.11770036  0.59507992  0.11441728  0.         -0.28216096 -0.05661944\n",
      "  0.02375582 -0.00732182  0.06665469]\n",
      "MSE:9.750721063176828\n",
      "R2:0.9018626382796255\n",
      "model name:  Ridge(alpha=0.01, copy_X=True, fit_intercept=True, max_iter=None,\n",
      "      normalize=False, random_state=None, solver='auto', tol=0.001)\n",
      "the intercept is:  [-1.5634752e-16]\n",
      "the coeff is:  [[ 0.20273244  0.50612285  0.06261057  0.         -0.46117564 -0.07437095\n",
      "   0.04914409 -0.03242136  0.05764822]]\n",
      "MSE:8.886638592738029\n",
      "R2:0.9105593052654062\n",
      "model name:  ElasticNet(alpha=1.0, copy_X=True, fit_intercept=True, l1_ratio=0.5,\n",
      "           max_iter=1000, normalize=False, positive=False, precompute=False,\n",
      "           random_state=None, selection='cyclic', tol=0.0001, warm_start=False)\n",
      "the intercept is:  [1.47436418e-16]\n",
      "the coeff is:  [ 0.          0.23646989  0.13590867  0.         -0.         -0.\n",
      " -0.          0.          0.        ]\n",
      "MSE:123.13819153740035\n",
      "R2:-0.23933985663224974\n",
      "Ridge(alpha=0.01, copy_X=True, fit_intercept=True, max_iter=None,\n",
      "      normalize=False, random_state=None, solver='auto', tol=0.001)\n"
     ]
    }
   ],
   "source": [
    "models = [LinearRegression(),Lasso(alpha = 0.01),Ridge(alpha=.01),ElasticNet()]\n",
    "\n",
    "best_model_R2 = modelselection(models,y_test_scaled,X_test_scaled)\n",
    "print(best_model_R2)"
   ]
  },
  {
   "cell_type": "code",
   "execution_count": 32,
   "metadata": {},
   "outputs": [],
   "source": [
    "def Q42019(X,y):\n",
    "    X_train = X.iloc[0:-1]\n",
    "    #print(X_train)\n",
    "    #print(X_train.shape)\n",
    "    y_train = y[0:-1]\n",
    "    #print(y_train.shape)\n",
    "    #print(y_train)\n",
    "    X_test = X.iloc[-1].values.reshape(1,-1)\n",
    "    #print(X_test.shape)\n",
    "    #print(X_test)\n",
    "    return X_train,y_train,X_test\n",
    "\n",
    "def Q32019(X,y):\n",
    "    X_train = X.iloc[0:-2]\n",
    "    #print(X_train.shape)\n",
    "    y_train = y[0:-2]\n",
    "    #print(y_train.shape)\n",
    "    X_test = X.iloc[-2].values.reshape(1,-1)\n",
    "    #print(X_test.shape)\n",
    "    return X_train,y_train,X_test\n",
    "\n",
    "def Q22019(X,y):\n",
    "    X_train = X.iloc[0:-3]\n",
    "    #print(X_train.shape)\n",
    "    y_train = y[0:-3]\n",
    "    #print(y_train.shape)\n",
    "    X_test = X.iloc[-3].values.reshape(1,-1)\n",
    "    #print(X_test.shape)\n",
    "    return X_train,y_train,X_test\n",
    "\n",
    "def Q12019(X,y):\n",
    "    X_train = X.iloc[0:-4]\n",
    "    #print(X_train.shape)\n",
    "    y_train = y[0:-4]\n",
    "    #print(y_train.shape)\n",
    "    X_test = X.iloc[-4].values.reshape(1,-1)\n",
    "    #print(X_test.shape)\n",
    "    return X_train,y_train,X_test\n",
    "\n",
    "def finalprediction(X_train,y_train,X_test,best_model_R2):\n",
    "    X_train_scaled,y_train_scaled,X_test_scaled, = scaler(X_train,y_train,X_test)\n",
    "    regressor = best_model_R2\n",
    "    #print(\"the model used is: \" , regressor)\n",
    "    regressor.fit(X_train_scaled, y_train_scaled)\n",
    "    a = regressor.predict(X_test_scaled)\n",
    "    y_new = StandardScaler().fit(y_train).inverse_transform(a)\n",
    "    #print(int(y_new))\n",
    "    return(int(y_new))"
   ]
  },
  {
   "cell_type": "code",
   "execution_count": 78,
   "metadata": {},
   "outputs": [],
   "source": [
    "files = [TEMPLATES_DIR.joinpath(company + \".csv\") for company in companies]\n",
    "#models = [LinearRegression(),Lasso(alpha = 0.01),Ridge(alpha=.01),ElasticNet()]\n",
    "def value_predictions(best_model_R2,files,X_train,y_train,X_test,X,y):\n",
    "    output = {}\n",
    "    for file_name in files:\n",
    "        df = pd.read_csv(file_name)\n",
    "        df = pd.get_dummies(df)\n",
    "        #print(df.head())\n",
    "        df.isnull().any()\n",
    "        #print(df.columns)\n",
    "        df = df.fillna(method = 'ffill')\n",
    "        df = df.interpolate(method ='linear', limit_direction ='backward')\n",
    "        df = df.interpolate(method = 'linear',limit_direction = 'forward',limit = 1)\n",
    "        value = finalprediction(X_train,y_train,X_test,best_model_R2)\n",
    "        name = str(file_name).replace('/Users/hh/Documents/Predict_Revenue_Dashboard/Resources/', '')\n",
    "        output[name] = value\n",
    "    return output\n",
    "        "
   ]
  },
  {
   "cell_type": "code",
   "execution_count": 79,
   "metadata": {
    "scrolled": true
   },
   "outputs": [
    {
     "name": "stdout",
     "output_type": "stream",
     "text": [
      "ModelA\n",
      "Prediction for 2019-Q1\n",
      "{'GOOGL.csv': 15471278224, 'FB.csv': 15471278224, 'TWTR.csv': 15471278224, 'SNAP.csv': 15471278224}\n",
      "Prediction for 2019-Q2\n",
      "{'GOOGL.csv': 17122601992, 'FB.csv': 17122601992, 'TWTR.csv': 17122601992, 'SNAP.csv': 17122601992}\n",
      "Prediction for 2019-Q3\n",
      "{'GOOGL.csv': 17281135178, 'FB.csv': 17281135178, 'TWTR.csv': 17281135178, 'SNAP.csv': 17281135178}\n",
      "Prediction for 2019-Q4\n",
      "{'GOOGL.csv': 21289949545, 'FB.csv': 21289949545, 'TWTR.csv': 21289949545, 'SNAP.csv': 21289949545}\n"
     ]
    }
   ],
   "source": [
    "### Model A prediction\n",
    "\n",
    "print(\"ModelA\")\n",
    "X,y = ModelA(df)\n",
    "print(\"Prediction for 2019-Q1\")\n",
    "X_train,y_train,X_test = Q12019(X,y)\n",
    "value = value_predictions(best_model_R2,files,X_train,y_train,X_test,X,y)\n",
    "print (value)\n",
    "print(\"Prediction for 2019-Q2\")\n",
    "X_train,y_train,X_test = Q22019(X,y)\n",
    "value = value_predictions(best_model_R2,files,X_train,y_train,X_test,X,y)\n",
    "print (value)\n",
    "print(\"Prediction for 2019-Q3\")\n",
    "X_train,y_train,X_test = Q32019(X,y)\n",
    "value = value_predictions(best_model_R2,files,X_train,y_train,X_test,X,y)\n",
    "print (value)\n",
    "\n",
    "print(\"Prediction for 2019-Q4\")\n",
    "X_train,y_train,X_test = Q42019(X,y)\n",
    "value = value_predictions(best_model_R2,files,X_train,y_train,X_test,X,y)\n",
    "print (value)"
   ]
  },
  {
   "cell_type": "code",
   "execution_count": null,
   "metadata": {},
   "outputs": [],
   "source": [
    "### Model B prediction\n",
    "print(\"ModelB\")\n",
    "\n",
    "X,y = ModelB(df)\n",
    "print(\"Prediction for Q1 2019\")\n",
    "X_train,y_train,X_test = Q12019(X,y)\n",
    "value = value_predictions(best_model_R2,files,X_train,y_train,X_test,X,y)\n",
    "print (value)\n",
    "print(\"Prediction for Q2 2019\")\n",
    "X_train,y_train,X_test = Q22019(X,y)\n",
    "value = value_predictions(best_model_R2,files,X_train,y_train,X_test,X,y)\n",
    "print (value)\n",
    "print(\"Prediction for Q3 2019\")\n",
    "X_train,y_train,X_test = Q32019(X,y)\n",
    "value = value_predictions(best_model_R2,files,X_train,y_train,X_test,X,y)\n",
    "print (value)\n",
    "print(\"Prediction for Q4 2019\")\n",
    "X_train,y_train,X_test = Q42019(X,y)\n",
    "value = value_predictions(best_model_R2,files,X_train,y_train,X_test,X,y)\n",
    "print (value)"
   ]
  },
  {
   "cell_type": "code",
   "execution_count": null,
   "metadata": {},
   "outputs": [],
   "source": [
    "### Model C prediction\n",
    "print(\"ModelC\")\n",
    "\n",
    "X,y = ModelC(df)\n",
    "print(\"Prediction for Q1 2019\")\n",
    "X_train,y_train,X_test = Q12019(X,y)\n",
    "value = value_predictions(best_model_R2,files,X_train,y_train,X_test,X,y)\n",
    "print (value)\n",
    "print(\"Prediction for Q2 2019\")\n",
    "X_train,y_train,X_test = Q22019(X,y)\n",
    "value = value_predictions(best_model_R2,files,X_train,y_train,X_test,X,y)\n",
    "print (value)\n",
    "print(\"Prediction for Q3 2019\")\n",
    "X_train,y_train,X_test = Q32019(X,y)\n",
    "value = value_predictions(best_model_R2,files,X_train,y_train,X_test,X,y)\n",
    "print (value)\n",
    "print(\"Prediction for Q4 2019\")\n",
    "X_train,y_train,X_test = Q42019(X,y)\n",
    "value = value_predictions(best_model_R2,files,X_train,y_train,X_test,X,y)\n",
    "print (value)"
   ]
  },
  {
   "cell_type": "code",
   "execution_count": null,
   "metadata": {},
   "outputs": [],
   "source": []
  },
  {
   "cell_type": "code",
   "execution_count": null,
   "metadata": {},
   "outputs": [],
   "source": []
  },
  {
   "cell_type": "code",
   "execution_count": null,
   "metadata": {},
   "outputs": [],
   "source": []
  },
  {
   "cell_type": "code",
   "execution_count": null,
   "metadata": {},
   "outputs": [],
   "source": []
  },
  {
   "cell_type": "code",
   "execution_count": null,
   "metadata": {},
   "outputs": [],
   "source": []
  }
 ],
 "metadata": {
  "kernelspec": {
   "display_name": "Python 3",
   "language": "python",
   "name": "python3"
  },
  "language_info": {
   "codemirror_mode": {
    "name": "ipython",
    "version": 3
   },
   "file_extension": ".py",
   "mimetype": "text/x-python",
   "name": "python",
   "nbconvert_exporter": "python",
   "pygments_lexer": "ipython3",
   "version": "3.6.7"
  }
 },
 "nbformat": 4,
 "nbformat_minor": 2
}
