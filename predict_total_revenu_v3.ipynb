{
 "cells": [
  {
   "cell_type": "code",
   "execution_count": 93,
   "metadata": {},
   "outputs": [
    {
     "data": {
      "image/png": "[encoded data removed]",
      "text/plain": [
       "<Figure size 432x288 with 1 Axes>"
      ]
     },
     "metadata": {
      "needs_background": "light"
     },
     "output_type": "display_data"
    }
   ],
   "source": [
    "import pandas as pd\n",
    "import numpy as np\n",
    "from pandas import read_csv\n",
    "import matplotlib.pyplot as plt\n",
    "from matplotlib import pyplot\n",
    "from sklearn.datasets import make_regression\n",
    "from sklearn.linear_model import LinearRegression\n",
    "from scipy.interpolate import interp1d\n",
    "from sklearn.metrics import mean_squared_error\n",
    "from statsmodels.tsa.ar_model import AR\n",
    "from pylab import rcParams\n",
    "from sklearn.feature_selection import RFE\n",
    "\n",
    "# files = [\"Facebook_File.csv\",\"Twitter_File.csv\",\"Google_File.csv\",\"Snap_File.csv\"]\n",
    "# from filename in files:\n",
    "#     file = filename\n",
    "\n",
    "file = \"Snap_File.csv\"\n",
    "\n",
    "df = pd.read_csv(file)\n",
    "df.head()\n",
    "df.plot()\n",
    "pyplot.show()"
   ]
  },
  {
   "cell_type": "code",
   "execution_count": 94,
   "metadata": {},
   "outputs": [
    {
     "name": "stdout",
     "output_type": "stream",
     "text": [
      "   Total_Revenue  SMI_US_Ad_Revenue  Capture_Rate     ORI        Lag  MAU  \\\n",
      "0      3920000.0          882352.94      0.225090     NaN        NaN   80   \n",
      "1      5300000.0         2312778.24      0.436373     NaN        NaN   86   \n",
      "2     16730000.0         5497875.57      0.328624     NaN        NaN   94   \n",
      "3     32720000.0        17617242.81      0.540222     NaN        NaN  107   \n",
      "4     38800000.0         8557367.48      0.235861  217.74  3920000.0  122   \n",
      "\n",
      "   Time_2015-Q1  Time_2015-Q2  Time_2015-Q3  Time_2015-Q4  ...  Time_2018-Q3  \\\n",
      "0             1             0             0             0  ...             0   \n",
      "1             0             1             0             0  ...             0   \n",
      "2             0             0             1             0  ...             0   \n",
      "3             0             0             0             1  ...             0   \n",
      "4             0             0             0             0  ...             0   \n",
      "\n",
      "   Time_2018-Q4  Time_2019-Q1  Time_2019-Q2  Time_2019-Q3  Time_2019-Q4  \\\n",
      "0             0             0             0             0             0   \n",
      "1             0             0             0             0             0   \n",
      "2             0             0             0             0             0   \n",
      "3             0             0             0             0             0   \n",
      "4             0             0             0             0             0   \n",
      "\n",
      "   Quarter_Q1  Quarter_Q2  Quarter_Q3  Quarter_Q4  \n",
      "0           1           0           0           0  \n",
      "1           0           1           0           0  \n",
      "2           0           0           1           0  \n",
      "3           0           0           0           1  \n",
      "4           1           0           0           0  \n",
      "\n",
      "[5 rows x 30 columns]\n",
      "Index(['Total_Revenue', 'SMI_US_Ad_Revenue', 'Capture_Rate', 'ORI', 'Lag',\n",
      "       'MAU', 'Time_2015-Q1', 'Time_2015-Q2', 'Time_2015-Q3', 'Time_2015-Q4',\n",
      "       'Time_2016-Q1', 'Time_2016-Q2', 'Time_2016-Q3', 'Time_2016-Q4',\n",
      "       'Time_2017-Q1', 'Time_2017-Q2', 'Time_2017-Q3', 'Time_2017-Q4',\n",
      "       'Time_2018-Q1', 'Time_2018-Q2', 'Time_2018-Q3', 'Time_2018-Q4',\n",
      "       'Time_2019-Q1', 'Time_2019-Q2', 'Time_2019-Q3', 'Time_2019-Q4',\n",
      "       'Quarter_Q1', 'Quarter_Q2', 'Quarter_Q3', 'Quarter_Q4'],\n",
      "      dtype='object')\n"
     ]
    }
   ],
   "source": [
    "df.columns\n",
    "df = pd.get_dummies(df)\n",
    "#dummy = pd.get_dummies(df['Quarter'])\n",
    "#df= pd.concat([df,dummy],axis = 1)\n",
    "print(df.head())\n",
    "df.isnull().any()\n",
    "print(df.columns)\n",
    "df = df.fillna(method = 'ffill')\n",
    "df = df.interpolate(method ='linear', limit_direction ='backward')\n",
    "df = df.interpolate(method = 'linear',limit_direction = 'forward',limit = 1)"
   ]
  },
  {
   "cell_type": "code",
   "execution_count": 95,
   "metadata": {},
   "outputs": [],
   "source": [
    "##model with MAU and Capture Rate\n",
    "def ModelA(df):\n",
    "    X = df[['SMI_US_Ad_Revenue','Lag','MAU','ORI','Capture_Rate','Quarter_Q1',\n",
    "       'Quarter_Q2', 'Quarter_Q3', 'Quarter_Q4'] ]\n",
    "    y = df['Total_Revenue'].values.reshape(-1,1)\n",
    "    return X,y"
   ]
  },
  {
   "cell_type": "code",
   "execution_count": 96,
   "metadata": {},
   "outputs": [],
   "source": [
    "##model with Capture Rate and without MAU\n",
    "\n",
    "def ModelB(df):\n",
    "    X = df[['SMI_US_Ad_Revenue','Lag','Capture_Rate','Quarter_Q1',\n",
    "       'Quarter_Q2', 'Quarter_Q3', 'Quarter_Q4'] ]\n",
    "    y = df['Total_Revenue'].values.reshape(-1,1)\n",
    "    return X,y\n"
   ]
  },
  {
   "cell_type": "code",
   "execution_count": 97,
   "metadata": {},
   "outputs": [],
   "source": [
    "##model without MAU and Capture Rate\n",
    "def ModelC(df):\n",
    "    X = df[['SMI_US_Ad_Revenue','Lag','Quarter_Q1',\n",
    "        'Quarter_Q2', 'Quarter_Q3', 'Quarter_Q4'] ]\n",
    "    y = df['Total_Revenue'].values.reshape(-1,1)  \n",
    "    return X,y"
   ]
  },
  {
   "cell_type": "code",
   "execution_count": 98,
   "metadata": {},
   "outputs": [],
   "source": [
    "X,y = ModelA(df)"
   ]
  },
  {
   "cell_type": "code",
   "execution_count": 99,
   "metadata": {},
   "outputs": [],
   "source": [
    "from sklearn.model_selection import train_test_split\n",
    "\n",
    "test_percentage = .66\n",
    "X_train, X_test, y_train, y_test = train_test_split(X, y, test_size= test_percentage, shuffle = False, random_state=42)\n",
    "#X_train,X_test,y_train,y_test = train_test_split(X,y,random_state = 42)\n",
    "\n",
    "\n"
   ]
  },
  {
   "cell_type": "code",
   "execution_count": 100,
   "metadata": {},
   "outputs": [
    {
     "name": "stderr",
     "output_type": "stream",
     "text": [
      "C:\\Users\\agarg\\AppData\\Local\\Continuum\\anaconda3\\lib\\site-packages\\sklearn\\preprocessing\\data.py:645: DataConversionWarning: Data with input dtype uint8, int64, float64 were all converted to float64 by StandardScaler.\n",
      "  return self.partial_fit(X, y)\n",
      "C:\\Users\\agarg\\AppData\\Local\\Continuum\\anaconda3\\lib\\site-packages\\ipykernel_launcher.py:7: DataConversionWarning: Data with input dtype uint8, int64, float64 were all converted to float64 by StandardScaler.\n",
      "  import sys\n",
      "C:\\Users\\agarg\\AppData\\Local\\Continuum\\anaconda3\\lib\\site-packages\\sklearn\\preprocessing\\data.py:645: DataConversionWarning: Data with input dtype uint8, int64, float64 were all converted to float64 by StandardScaler.\n",
      "  return self.partial_fit(X, y)\n",
      "C:\\Users\\agarg\\AppData\\Local\\Continuum\\anaconda3\\lib\\site-packages\\ipykernel_launcher.py:8: DataConversionWarning: Data with input dtype uint8, int64, float64 were all converted to float64 by StandardScaler.\n",
      "  \n"
     ]
    }
   ],
   "source": [
    "from sklearn.preprocessing import StandardScaler\n",
    "def scaler(X_train,y_train,X_test):\n",
    "    #X_scaler = StandardScaler().fit(X_train)\n",
    "    #y_scaler = StandardScaler().fit(y_train)\n",
    "    #X_test = X_test.values.reshape(1, -1)\n",
    "    #y_train = y_train.reshape(-1,1)\n",
    "    X_train_scaled = StandardScaler().fit(X_train).transform(X_train)\n",
    "    X_test_scaled = StandardScaler().fit(X_train).transform(X_test)\n",
    "    y_train_scaled = StandardScaler().fit(y_train).transform(y_train)\n",
    "    return X_train_scaled,y_train_scaled,X_test_scaled\n",
    "def scaler_y_test(y_test,y_train):\n",
    "    y_test_scaled = StandardScaler().fit(y_train).transform(y_test)\n",
    "    return y_test_scaled\n",
    "\n",
    "X_train_scaled,y_train_scaled,X_test_scaled, = scaler(X_train,y_train,X_test)\n",
    "y_test_scaled = scaler_y_test(y_test,y_train)"
   ]
  },
  {
   "cell_type": "code",
   "execution_count": 101,
   "metadata": {},
   "outputs": [
    {
     "data": {
      "image/png": "[encoded data removed]",
      "text/plain": [
       "<Figure size 432x288 with 1 Axes>"
      ]
     },
     "metadata": {
      "needs_background": "light"
     },
     "output_type": "display_data"
    }
   ],
   "source": [
    "model = LinearRegression()\n",
    "#predictions = model.predict(X_test_scaled)\n",
    "model.fit(X_train_scaled,y_train_scaled)\n",
    "plt.scatter(model.predict(X_train_scaled), model.predict(X_train_scaled) - y_train_scaled, c=\"blue\", label=\"Training Data\")\n",
    "plt.scatter(model.predict(X_test_scaled), model.predict(X_test_scaled) - y_test_scaled, c=\"orange\", label=\"Testing Data\")\n",
    "plt.legend()\n",
    "plt.hlines(y=0, xmin=y_test_scaled.min(), xmax=y_test_scaled.max())\n",
    "plt.title(\"Test Vs Train Plot\")\n",
    "plt.show()\n",
    "\n"
   ]
  },
  {
   "cell_type": "code",
   "execution_count": 102,
   "metadata": {},
   "outputs": [],
   "source": [
    "from sklearn.metrics import mean_squared_error\n",
    "from sklearn.linear_model import LinearRegression,Lasso,Ridge,ElasticNet\n",
    "\n",
    "\n",
    "def run_model(model):\n",
    "    execute_model(X_train_scaled,y_train_scaled,model,X_test_scaled,y_test_scaled)\n",
    "        \n",
    "def execute_model(X_train_scaled,y_train_scaled,model,X_test_scaled,y_test_scaled):\n",
    "    z = modelfit(model,X_train_scaled,y_train_scaled)\n",
    "    blah = predictions(z,X_test_scaled)\n",
    "    print(f\"MSE:{MSE(y_test_scaled,blah)}\")\n",
    "    print(f\"R2:{r2(model,X_test_scaled, y_test_scaled)}\")\n",
    "    \n",
    "def modelfit(a,X_train_scaled, y_train_scaled):\n",
    "    model = a.fit(X_train_scaled, y_train_scaled)\n",
    "    print(\"model name: \",a)\n",
    "    return model\n",
    "\n",
    "def predictions(model,X_test_scaled):\n",
    "    predictions = model.predict(X_test_scaled)\n",
    "    #print(predictions)\n",
    "    print(\"the intercept is: \" , model.intercept_)\n",
    "    print(\"the coeff is: \" ,model.coef_)\n",
    "    return predictions\n",
    "def MSE(y_test_scaled,predictions):\n",
    "    mse = mean_squared_error(y_test_scaled, predictions)\n",
    "    #print(f\"MSE: {mse}\")\n",
    "    return mse\n",
    "def r2(model,X_test_scaled, y_test_scaled):\n",
    "    R2 = model.score(X_test_scaled, y_test_scaled)\n",
    "    #print(f\"R2: {R2}\")\n",
    "    return R2\n",
    "\n",
    "def modelselection(models,y_test_scaled,X_test_scaled):\n",
    "    R2_dict = {}\n",
    "    mse_dict = {}\n",
    "    for model in models:\n",
    "        run_model(model)\n",
    "        predictions = model.predict(X_test_scaled)\n",
    "        mse = MSE(y_test_scaled,predictions)\n",
    "        R2= r2(model,X_test_scaled,y_test_scaled)\n",
    "        R2_dict.update({model:R2})\n",
    "        mse_dict.update({model:mse})\n",
    "    best_model_R2 = max(R2_dict, key=R2_dict.get)\n",
    "    #best_model_mse = min(mse_dict,key=mse_dict.get)\n",
    "    return best_model_R2\n"
   ]
  },
  {
   "cell_type": "code",
   "execution_count": 103,
   "metadata": {
    "scrolled": true
   },
   "outputs": [
    {
     "name": "stdout",
     "output_type": "stream",
     "text": [
      "model name:  LinearRegression(copy_X=True, fit_intercept=True, n_jobs=None,\n",
      "         normalize=False)\n",
      "the intercept is:  [-3.08005579e-14]\n",
      "the coeff is:  [[ 0.33078198  0.07218462  0.60350688 -0.07218462 -0.04198501  0.02404573\n",
      "  -0.01819807  0.01876003 -0.02615679]]\n",
      "MSE:128085.60852840789\n",
      "R2:-6462.088958982318\n",
      "model name:  Lasso(alpha=0.01, copy_X=True, fit_intercept=True, max_iter=1000,\n",
      "   normalize=False, positive=False, precompute=False, random_state=None,\n",
      "   selection='cyclic', tol=0.0001, warm_start=False)\n",
      "the intercept is:  [-2.35837209e-16]\n",
      "the coeff is:  [ 0.28446073  0.12414643  0.63345413 -0.         -0.05906443  0.\n",
      " -0.          0.0034192  -0.        ]\n",
      "MSE:1700.5877924562312\n",
      "R2:-84.81018829110918\n",
      "model name:  Ridge(alpha=0.01, copy_X=True, fit_intercept=True, max_iter=None,\n",
      "   normalize=False, random_state=None, solver='auto', tol=0.001)\n",
      "the intercept is:  [-3.13339276e-14]\n",
      "the coeff is:  [[ 0.33041774  0.07344458  0.60087643 -0.07344458 -0.04232389  0.02400097\n",
      "  -0.01865928  0.01852966 -0.02528642]]\n",
      "MSE:132511.42847568178\n",
      "R2:-6685.41200334546\n",
      "model name:  ElasticNet(alpha=1.0, copy_X=True, fit_intercept=True, l1_ratio=0.5,\n",
      "      max_iter=1000, normalize=False, positive=False, precompute=False,\n",
      "      random_state=None, selection='cyclic', tol=0.0001, warm_start=False)\n",
      "the intercept is:  [-1.36409836e-14]\n",
      "the coeff is:  [ 0.1060977   0.03189503  0.23165738 -0.03191102 -0.         -0.\n",
      "  0.         -0.          0.        ]\n",
      "MSE:27138.02255970681\n",
      "R2:-1368.3611326783328\n",
      "Lasso(alpha=0.01, copy_X=True, fit_intercept=True, max_iter=1000,\n",
      "   normalize=False, positive=False, precompute=False, random_state=None,\n",
      "   selection='cyclic', tol=0.0001, warm_start=False)\n"
     ]
    }
   ],
   "source": [
    "models = [LinearRegression(),Lasso(alpha = 0.01),Ridge(alpha=.01),ElasticNet()]\n",
    "\n",
    "best_model_R2 = modelselection(models,y_test_scaled,X_test_scaled)\n",
    "print(best_model_R2)"
   ]
  },
  {
   "cell_type": "code",
   "execution_count": 104,
   "metadata": {},
   "outputs": [],
   "source": [
    "def Q42019(X,y):\n",
    "    X_train = X.iloc[0:-1]\n",
    "    #print(X_train)\n",
    "    #print(X_train.shape)\n",
    "    y_train = y[0:-1]\n",
    "    #print(y_train.shape)\n",
    "    #print(y_train)\n",
    "    X_test = X.iloc[-1].values.reshape(1,-1)\n",
    "    #print(X_test.shape)\n",
    "    #print(X_test)\n",
    "    return X_train,y_train,X_test\n",
    "\n",
    "def Q32019(X,y):\n",
    "    X_train = X.iloc[0:-2]\n",
    "    #print(X_train.shape)\n",
    "    y_train = y[0:-2]\n",
    "    #print(y_train.shape)\n",
    "    X_test = X.iloc[-2].values.reshape(1,-1)\n",
    "    #print(X_test.shape)\n",
    "    return X_train,y_train,X_test\n",
    "\n",
    "def Q22019(X,y):\n",
    "    X_train = X.iloc[0:-3]\n",
    "    #print(X_train.shape)\n",
    "    y_train = y[0:-3]\n",
    "    #print(y_train.shape)\n",
    "    X_test = X.iloc[-3].values.reshape(1,-1)\n",
    "    #print(X_test.shape)\n",
    "    return X_train,y_train,X_test\n",
    "\n",
    "def Q12019(X,y):\n",
    "    X_train = X.iloc[0:-4]\n",
    "    #print(X_train.shape)\n",
    "    y_train = y[0:-4]\n",
    "    #print(y_train.shape)\n",
    "    X_test = X.iloc[-4].values.reshape(1,-1)\n",
    "    #print(X_test.shape)\n",
    "    return X_train,y_train,X_test\n",
    "\n",
    "def finalprediction(X_train,y_train,X_test,best_model_R2):\n",
    "    X_train_scaled,y_train_scaled,X_test_scaled, = scaler(X_train,y_train,X_test)\n",
    "    regressor = best_model_R2\n",
    "    #print(\"the model used is: \" , regressor)\n",
    "    regressor.fit(X_train_scaled, y_train_scaled)\n",
    "    a = regressor.predict(X_test_scaled)\n",
    "    y_new = StandardScaler().fit(y_train).inverse_transform(a)\n",
    "    #print(int(y_new))\n",
    "    return(int(y_new))"
   ]
  },
  {
   "cell_type": "code",
   "execution_count": null,
   "metadata": {},
   "outputs": [],
   "source": []
  },
  {
   "cell_type": "code",
   "execution_count": 105,
   "metadata": {},
   "outputs": [],
   "source": [
    "files = [\"Snap_File.csv\"]\n",
    "#,\"Twitter_File.csv\",\"Google_File.csv\",\"Snap_File.csv\"]\n",
    "#models = [LinearRegression(),Lasso(alpha = 0.01),Ridge(alpha=.01),ElasticNet()]\n",
    "\n",
    "def value_predictions(best_model_R2,files,X_train,y_train,X_test,X,y):\n",
    "    for file_name in files:\n",
    "        file = file_name\n",
    "        print(file)\n",
    "        df = pd.read_csv(file)\n",
    "#         df.head()\n",
    "#         df.plot()\n",
    "#         pyplot.show()\n",
    "        \n",
    "        df = pd.get_dummies(df)\n",
    "        #print(df.head())\n",
    "        df.isnull().any()\n",
    "        #print(df.columns)\n",
    "        df = df.fillna(method = 'ffill')\n",
    "        df = df.interpolate(method ='linear', limit_direction ='backward')\n",
    "        df = df.interpolate(method = 'linear',limit_direction = 'forward',limit = 1)\n",
    "        value = finalprediction(X_train,y_train,X_test,best_model_R2)\n",
    "        return value\n",
    "        "
   ]
  },
  {
   "cell_type": "code",
   "execution_count": 106,
   "metadata": {
    "scrolled": true
   },
   "outputs": [
    {
     "name": "stdout",
     "output_type": "stream",
     "text": [
      "ModelA\n",
      "Prediction for Q1 2019\n",
      "Snap_File.csv\n",
      "289837592\n",
      "Prediction for Q2 2019\n",
      "Snap_File.csv\n"
     ]
    },
    {
     "name": "stderr",
     "output_type": "stream",
     "text": [
      "C:\\Users\\agarg\\AppData\\Local\\Continuum\\anaconda3\\lib\\site-packages\\sklearn\\preprocessing\\data.py:645: DataConversionWarning: Data with input dtype uint8, int64, float64 were all converted to float64 by StandardScaler.\n",
      "  return self.partial_fit(X, y)\n",
      "C:\\Users\\agarg\\AppData\\Local\\Continuum\\anaconda3\\lib\\site-packages\\ipykernel_launcher.py:7: DataConversionWarning: Data with input dtype uint8, int64, float64 were all converted to float64 by StandardScaler.\n",
      "  import sys\n",
      "C:\\Users\\agarg\\AppData\\Local\\Continuum\\anaconda3\\lib\\site-packages\\sklearn\\preprocessing\\data.py:645: DataConversionWarning: Data with input dtype uint8, int64, float64 were all converted to float64 by StandardScaler.\n",
      "  return self.partial_fit(X, y)\n",
      "C:\\Users\\agarg\\AppData\\Local\\Continuum\\anaconda3\\lib\\site-packages\\sklearn\\preprocessing\\data.py:645: DataConversionWarning: Data with input dtype uint8, int64, float64 were all converted to float64 by StandardScaler.\n",
      "  return self.partial_fit(X, y)\n",
      "C:\\Users\\agarg\\AppData\\Local\\Continuum\\anaconda3\\lib\\site-packages\\ipykernel_launcher.py:7: DataConversionWarning: Data with input dtype uint8, int64, float64 were all converted to float64 by StandardScaler.\n",
      "  import sys\n",
      "C:\\Users\\agarg\\AppData\\Local\\Continuum\\anaconda3\\lib\\site-packages\\sklearn\\preprocessing\\data.py:645: DataConversionWarning: Data with input dtype uint8, int64, float64 were all converted to float64 by StandardScaler.\n",
      "  return self.partial_fit(X, y)\n"
     ]
    },
    {
     "name": "stdout",
     "output_type": "stream",
     "text": [
      "352154655\n",
      "Prediction for Q3 2019\n",
      "Snap_File.csv\n",
      "407599882\n",
      "Prediction for Q4 2019\n",
      "Snap_File.csv\n",
      "570759730\n"
     ]
    },
    {
     "name": "stderr",
     "output_type": "stream",
     "text": [
      "C:\\Users\\agarg\\AppData\\Local\\Continuum\\anaconda3\\lib\\site-packages\\sklearn\\preprocessing\\data.py:645: DataConversionWarning: Data with input dtype uint8, int64, float64 were all converted to float64 by StandardScaler.\n",
      "  return self.partial_fit(X, y)\n",
      "C:\\Users\\agarg\\AppData\\Local\\Continuum\\anaconda3\\lib\\site-packages\\ipykernel_launcher.py:7: DataConversionWarning: Data with input dtype uint8, int64, float64 were all converted to float64 by StandardScaler.\n",
      "  import sys\n",
      "C:\\Users\\agarg\\AppData\\Local\\Continuum\\anaconda3\\lib\\site-packages\\sklearn\\preprocessing\\data.py:645: DataConversionWarning: Data with input dtype uint8, int64, float64 were all converted to float64 by StandardScaler.\n",
      "  return self.partial_fit(X, y)\n",
      "C:\\Users\\agarg\\AppData\\Local\\Continuum\\anaconda3\\lib\\site-packages\\sklearn\\preprocessing\\data.py:645: DataConversionWarning: Data with input dtype uint8, int64, float64 were all converted to float64 by StandardScaler.\n",
      "  return self.partial_fit(X, y)\n",
      "C:\\Users\\agarg\\AppData\\Local\\Continuum\\anaconda3\\lib\\site-packages\\ipykernel_launcher.py:7: DataConversionWarning: Data with input dtype uint8, int64, float64 were all converted to float64 by StandardScaler.\n",
      "  import sys\n",
      "C:\\Users\\agarg\\AppData\\Local\\Continuum\\anaconda3\\lib\\site-packages\\sklearn\\preprocessing\\data.py:645: DataConversionWarning: Data with input dtype uint8, int64, float64 were all converted to float64 by StandardScaler.\n",
      "  return self.partial_fit(X, y)\n"
     ]
    }
   ],
   "source": [
    "### Model A prediction\n",
    "\n",
    "print(\"ModelA\")\n",
    "X,y = ModelA(df)\n",
    "print(\"Prediction for Q1 2019\")\n",
    "X_train,y_train,X_test = Q12019(X,y)\n",
    "value = value_predictions(best_model_R2,files,X_train,y_train,X_test,X,y)\n",
    "print (value)\n",
    "print(\"Prediction for Q2 2019\")\n",
    "X_train,y_train,X_test = Q22019(X,y)\n",
    "value = value_predictions(best_model_R2,files,X_train,y_train,X_test,X,y)\n",
    "print (value)\n",
    "print(\"Prediction for Q3 2019\")\n",
    "X_train,y_train,X_test = Q32019(X,y)\n",
    "value = value_predictions(best_model_R2,files,X_train,y_train,X_test,X,y)\n",
    "print (value)\n",
    "\n",
    "print(\"Prediction for Q4 2019\")\n",
    "X_train,y_train,X_test = Q42019(X,y)\n",
    "value = value_predictions(best_model_R2,files,X_train,y_train,X_test,X,y)\n",
    "print (value)"
   ]
  },
  {
   "cell_type": "code",
   "execution_count": 107,
   "metadata": {},
   "outputs": [
    {
     "name": "stdout",
     "output_type": "stream",
     "text": [
      "ModelB\n",
      "Prediction for Q1 2019\n",
      "Snap_File.csv\n",
      "285886135\n",
      "Prediction for Q2 2019\n",
      "Snap_File.csv\n"
     ]
    },
    {
     "name": "stderr",
     "output_type": "stream",
     "text": [
      "C:\\Users\\agarg\\AppData\\Local\\Continuum\\anaconda3\\lib\\site-packages\\sklearn\\preprocessing\\data.py:645: DataConversionWarning: Data with input dtype uint8, float64 were all converted to float64 by StandardScaler.\n",
      "  return self.partial_fit(X, y)\n",
      "C:\\Users\\agarg\\AppData\\Local\\Continuum\\anaconda3\\lib\\site-packages\\ipykernel_launcher.py:7: DataConversionWarning: Data with input dtype uint8, float64 were all converted to float64 by StandardScaler.\n",
      "  import sys\n",
      "C:\\Users\\agarg\\AppData\\Local\\Continuum\\anaconda3\\lib\\site-packages\\sklearn\\preprocessing\\data.py:645: DataConversionWarning: Data with input dtype uint8, float64 were all converted to float64 by StandardScaler.\n",
      "  return self.partial_fit(X, y)\n",
      "C:\\Users\\agarg\\AppData\\Local\\Continuum\\anaconda3\\lib\\site-packages\\sklearn\\preprocessing\\data.py:645: DataConversionWarning: Data with input dtype uint8, float64 were all converted to float64 by StandardScaler.\n",
      "  return self.partial_fit(X, y)\n",
      "C:\\Users\\agarg\\AppData\\Local\\Continuum\\anaconda3\\lib\\site-packages\\ipykernel_launcher.py:7: DataConversionWarning: Data with input dtype uint8, float64 were all converted to float64 by StandardScaler.\n",
      "  import sys\n",
      "C:\\Users\\agarg\\AppData\\Local\\Continuum\\anaconda3\\lib\\site-packages\\sklearn\\preprocessing\\data.py:645: DataConversionWarning: Data with input dtype uint8, float64 were all converted to float64 by StandardScaler.\n",
      "  return self.partial_fit(X, y)\n"
     ]
    },
    {
     "name": "stdout",
     "output_type": "stream",
     "text": [
      "353263273\n",
      "Prediction for Q3 2019\n",
      "Snap_File.csv\n",
      "410784396\n",
      "Prediction for Q4 2019\n",
      "Snap_File.csv\n",
      "588775637\n"
     ]
    },
    {
     "name": "stderr",
     "output_type": "stream",
     "text": [
      "C:\\Users\\agarg\\AppData\\Local\\Continuum\\anaconda3\\lib\\site-packages\\sklearn\\preprocessing\\data.py:645: DataConversionWarning: Data with input dtype uint8, float64 were all converted to float64 by StandardScaler.\n",
      "  return self.partial_fit(X, y)\n",
      "C:\\Users\\agarg\\AppData\\Local\\Continuum\\anaconda3\\lib\\site-packages\\ipykernel_launcher.py:7: DataConversionWarning: Data with input dtype uint8, float64 were all converted to float64 by StandardScaler.\n",
      "  import sys\n",
      "C:\\Users\\agarg\\AppData\\Local\\Continuum\\anaconda3\\lib\\site-packages\\sklearn\\preprocessing\\data.py:645: DataConversionWarning: Data with input dtype uint8, float64 were all converted to float64 by StandardScaler.\n",
      "  return self.partial_fit(X, y)\n",
      "C:\\Users\\agarg\\AppData\\Local\\Continuum\\anaconda3\\lib\\site-packages\\sklearn\\preprocessing\\data.py:645: DataConversionWarning: Data with input dtype uint8, float64 were all converted to float64 by StandardScaler.\n",
      "  return self.partial_fit(X, y)\n",
      "C:\\Users\\agarg\\AppData\\Local\\Continuum\\anaconda3\\lib\\site-packages\\ipykernel_launcher.py:7: DataConversionWarning: Data with input dtype uint8, float64 were all converted to float64 by StandardScaler.\n",
      "  import sys\n",
      "C:\\Users\\agarg\\AppData\\Local\\Continuum\\anaconda3\\lib\\site-packages\\sklearn\\preprocessing\\data.py:645: DataConversionWarning: Data with input dtype uint8, float64 were all converted to float64 by StandardScaler.\n",
      "  return self.partial_fit(X, y)\n"
     ]
    }
   ],
   "source": [
    "### Model B prediction\n",
    "print(\"ModelB\")\n",
    "\n",
    "X,y = ModelB(df)\n",
    "print(\"Prediction for Q1 2019\")\n",
    "X_train,y_train,X_test = Q12019(X,y)\n",
    "value = value_predictions(best_model_R2,files,X_train,y_train,X_test,X,y)\n",
    "print (value)\n",
    "print(\"Prediction for Q2 2019\")\n",
    "X_train,y_train,X_test = Q22019(X,y)\n",
    "value = value_predictions(best_model_R2,files,X_train,y_train,X_test,X,y)\n",
    "print (value)\n",
    "print(\"Prediction for Q3 2019\")\n",
    "X_train,y_train,X_test = Q32019(X,y)\n",
    "value = value_predictions(best_model_R2,files,X_train,y_train,X_test,X,y)\n",
    "print (value)\n",
    "print(\"Prediction for Q4 2019\")\n",
    "X_train,y_train,X_test = Q42019(X,y)\n",
    "value = value_predictions(best_model_R2,files,X_train,y_train,X_test,X,y)\n",
    "print (value)"
   ]
  },
  {
   "cell_type": "code",
   "execution_count": 108,
   "metadata": {},
   "outputs": [
    {
     "name": "stdout",
     "output_type": "stream",
     "text": [
      "ModelC\n",
      "Prediction for Q1 2019\n",
      "Snap_File.csv\n",
      "289190998\n",
      "Prediction for Q2 2019\n",
      "Snap_File.csv\n"
     ]
    },
    {
     "name": "stderr",
     "output_type": "stream",
     "text": [
      "C:\\Users\\agarg\\AppData\\Local\\Continuum\\anaconda3\\lib\\site-packages\\sklearn\\preprocessing\\data.py:645: DataConversionWarning: Data with input dtype uint8, float64 were all converted to float64 by StandardScaler.\n",
      "  return self.partial_fit(X, y)\n",
      "C:\\Users\\agarg\\AppData\\Local\\Continuum\\anaconda3\\lib\\site-packages\\ipykernel_launcher.py:7: DataConversionWarning: Data with input dtype uint8, float64 were all converted to float64 by StandardScaler.\n",
      "  import sys\n",
      "C:\\Users\\agarg\\AppData\\Local\\Continuum\\anaconda3\\lib\\site-packages\\sklearn\\preprocessing\\data.py:645: DataConversionWarning: Data with input dtype uint8, float64 were all converted to float64 by StandardScaler.\n",
      "  return self.partial_fit(X, y)\n",
      "C:\\Users\\agarg\\AppData\\Local\\Continuum\\anaconda3\\lib\\site-packages\\sklearn\\preprocessing\\data.py:645: DataConversionWarning: Data with input dtype uint8, float64 were all converted to float64 by StandardScaler.\n",
      "  return self.partial_fit(X, y)\n",
      "C:\\Users\\agarg\\AppData\\Local\\Continuum\\anaconda3\\lib\\site-packages\\ipykernel_launcher.py:7: DataConversionWarning: Data with input dtype uint8, float64 were all converted to float64 by StandardScaler.\n",
      "  import sys\n",
      "C:\\Users\\agarg\\AppData\\Local\\Continuum\\anaconda3\\lib\\site-packages\\sklearn\\preprocessing\\data.py:645: DataConversionWarning: Data with input dtype uint8, float64 were all converted to float64 by StandardScaler.\n",
      "  return self.partial_fit(X, y)\n",
      "C:\\Users\\agarg\\AppData\\Local\\Continuum\\anaconda3\\lib\\site-packages\\sklearn\\preprocessing\\data.py:645: DataConversionWarning: Data with input dtype uint8, float64 were all converted to float64 by StandardScaler.\n",
      "  return self.partial_fit(X, y)\n"
     ]
    },
    {
     "name": "stdout",
     "output_type": "stream",
     "text": [
      "354824817\n",
      "Prediction for Q3 2019\n",
      "Snap_File.csv\n",
      "414730000\n",
      "Prediction for Q4 2019\n",
      "Snap_File.csv\n",
      "593306450\n"
     ]
    },
    {
     "name": "stderr",
     "output_type": "stream",
     "text": [
      "C:\\Users\\agarg\\AppData\\Local\\Continuum\\anaconda3\\lib\\site-packages\\ipykernel_launcher.py:7: DataConversionWarning: Data with input dtype uint8, float64 were all converted to float64 by StandardScaler.\n",
      "  import sys\n",
      "C:\\Users\\agarg\\AppData\\Local\\Continuum\\anaconda3\\lib\\site-packages\\sklearn\\preprocessing\\data.py:645: DataConversionWarning: Data with input dtype uint8, float64 were all converted to float64 by StandardScaler.\n",
      "  return self.partial_fit(X, y)\n",
      "C:\\Users\\agarg\\AppData\\Local\\Continuum\\anaconda3\\lib\\site-packages\\sklearn\\preprocessing\\data.py:645: DataConversionWarning: Data with input dtype uint8, float64 were all converted to float64 by StandardScaler.\n",
      "  return self.partial_fit(X, y)\n",
      "C:\\Users\\agarg\\AppData\\Local\\Continuum\\anaconda3\\lib\\site-packages\\ipykernel_launcher.py:7: DataConversionWarning: Data with input dtype uint8, float64 were all converted to float64 by StandardScaler.\n",
      "  import sys\n",
      "C:\\Users\\agarg\\AppData\\Local\\Continuum\\anaconda3\\lib\\site-packages\\sklearn\\preprocessing\\data.py:645: DataConversionWarning: Data with input dtype uint8, float64 were all converted to float64 by StandardScaler.\n",
      "  return self.partial_fit(X, y)\n"
     ]
    }
   ],
   "source": [
    "### Model C prediction\n",
    "print(\"ModelC\")\n",
    "\n",
    "X,y = ModelC(df)\n",
    "print(\"Prediction for Q1 2019\")\n",
    "X_train,y_train,X_test = Q12019(X,y)\n",
    "value = value_predictions(best_model_R2,files,X_train,y_train,X_test,X,y)\n",
    "print (value)\n",
    "print(\"Prediction for Q2 2019\")\n",
    "X_train,y_train,X_test = Q22019(X,y)\n",
    "value = value_predictions(best_model_R2,files,X_train,y_train,X_test,X,y)\n",
    "print (value)\n",
    "print(\"Prediction for Q3 2019\")\n",
    "X_train,y_train,X_test = Q32019(X,y)\n",
    "value = value_predictions(best_model_R2,files,X_train,y_train,X_test,X,y)\n",
    "print (value)\n",
    "print(\"Prediction for Q4 2019\")\n",
    "X_train,y_train,X_test = Q42019(X,y)\n",
    "value = value_predictions(best_model_R2,files,X_train,y_train,X_test,X,y)\n",
    "print (value)"
   ]
  },
  {
   "cell_type": "code",
   "execution_count": null,
   "metadata": {},
   "outputs": [],
   "source": []
  },
  {
   "cell_type": "code",
   "execution_count": null,
   "metadata": {},
   "outputs": [],
   "source": []
  },
  {
   "cell_type": "code",
   "execution_count": null,
   "metadata": {},
   "outputs": [],
   "source": []
  },
  {
   "cell_type": "code",
   "execution_count": null,
   "metadata": {},
   "outputs": [],
   "source": []
  },
  {
   "cell_type": "code",
   "execution_count": null,
   "metadata": {},
   "outputs": [],
   "source": []
  }
 ],
 "metadata": {
  "kernelspec": {
   "display_name": "Python 3",
   "language": "python",
   "name": "python3"
  },
  "language_info": {
   "codemirror_mode": {
    "name": "ipython",
    "version": 3
   },
   "file_extension": ".py",
   "mimetype": "text/x-python",
   "name": "python",
   "nbconvert_exporter": "python",
   "pygments_lexer": "ipython3",
   "version": "3.7.3"
  }
 },
 "nbformat": 4,
 "nbformat_minor": 2
}
